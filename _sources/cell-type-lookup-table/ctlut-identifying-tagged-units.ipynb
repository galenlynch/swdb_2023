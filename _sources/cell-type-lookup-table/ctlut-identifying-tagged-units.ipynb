{
 "cells": [
  {
   "cell_type": "markdown",
   "id": "a76cb91b-c2cf-4910-8a83-119d1c423bb0",
   "metadata": {},
   "source": [
    "# Identifying tagged neurons\n",
    "\n",
    "As described in the optotagging section, identifying cells in an electrophysiological recording relies on looking for responses that are precicely synced with the laser stimuli. This notebook will go over how to align responses of recorded units to the laser presentations, calculate some metrics to determine how responsive the unit is, and then perform the same over all units collected during a session in order to assign cell type labels.\n",
    "\n",
    "## Import required packages\n",
    "Since the data is packaged as nwb files, you'll need to import hdmf_zarr to interact with the data. The metadata for each experiment is stored as .json files, so you'll want to import json as well.\n",
    "\n",
    "...and os is just nice for formatting file paths!"
   ]
  },
  {
   "cell_type": "code",
   "execution_count": 11,
   "id": "743a2685-80cc-4c73-a90e-477534536c80",
   "metadata": {},
   "outputs": [],
   "source": [
    "from hdmf_zarr import NWBZarrIO\n",
    "import json\n",
    "import os\n",
    "import numpy as np"
   ]
  },
  {
   "cell_type": "markdown",
   "id": "54ca4408-dfe3-4802-b97f-fb346805c3b1",
   "metadata": {},
   "source": [
    "## Determining identity of laser responsive cells\n",
    "\n",
    "Every experimental session may have a different set of tagged neurons. The identity of any laser-responsive units can be inferred from the mouse's genotype and viruses injected, both of which can be found in the metadata. A list of the mouse lines used in this data set and what they tag can be found in the optotagging section."
   ]
  },
  {
   "cell_type": "code",
   "execution_count": 12,
   "id": "f6477717-a5ae-4889-811c-41db78335b70",
   "metadata": {},
   "outputs": [],
   "source": [
    "# an 'arbitrarily' selected session\n",
    "session = '661398_2023-04-03_15-47-29'\n",
    "session_directory = f'/data/cell_type_lookup_table_nwb/ecephys_{session}_nwb'\n",
    "\n",
    "nwb_file = os.path.join(session_directory, f'ecephys_{session}_experiment1_recording1.nwb.zarr')\n",
    "io = NWBZarrIO(nwb_file, \"r\")\n",
    "nwbfile_read = io.read()"
   ]
  },
  {
   "cell_type": "code",
   "execution_count": 13,
   "id": "c7fb0382-57e3-4da3-b050-212897e89efa",
   "metadata": {},
   "outputs": [
    {
     "name": "stdout",
     "output_type": "stream",
     "text": [
      "Adora2a-Cre/wt\n",
      "['D1 enhancer CoChR', 'DIO-ChRmine-mScarlet']\n"
     ]
    }
   ],
   "source": [
    "# subject.json contains info about the mouse, procedures.json contains info about surgeries and such that were performed\n",
    "subject_json = os.path.join(session_directory, 'subject.json')\n",
    "procedures_json = os.path.join(session_directory, 'procedures.json')\n",
    "\n",
    "# load both json files\n",
    "with open(subject_json, 'r', ) as f:\n",
    "    subject = json.load(f)\n",
    "with open(procedures_json, 'r', ) as f:\n",
    "    procedures = json.load(f)\n",
    "\n",
    "print(subject['genotype'])\n",
    "\n",
    "virus_names = []\n",
    "try:\n",
    "    for material in procedures['injections'][0]['injection_materials']:\n",
    "        virus_names.append(material['name'])\n",
    "except(KeyError):\n",
    "    for material in procedures['subject_procedures'][2]['injection_materials']: # the procedures scraped from NSB are formatted differently\n",
    "        virus_names.append(material['name'])\n",
    "\n",
    "print(virus_names)"
   ]
  },
  {
   "cell_type": "markdown",
   "id": "2f2a3ff1-760b-44f4-9e4d-ac284da87821",
   "metadata": {},
   "source": [
    "So this animal was Adora2a-Cre (meaning it expresses Cre in D2 cells) and it was injected with two viruses: an enhancer delivering CoChR to D1 cells, and a Cre-dependent virus delivering ChRmine. From this, we can conclude that this mouse should express CoChR in D1 cells and ChRmine in D2 cells. Therefore, any cells responding to blue laser pulses are D1 calls, and cells responding to red laser pulses are D2 cells!"
   ]
  },
  {
   "cell_type": "markdown",
   "id": "28bb265c-3691-45df-a38c-7b6788ee477c",
   "metadata": {},
   "source": [
    "## Visuaising cell responses\n",
    "\n",
    "How do we tell if a cell is laser-responsive? We should take a look at the spiking activity during laser presentations. To do this, let's align the spike timestamps to the laser trial timestamps."
   ]
  },
  {
   "cell_type": "code",
   "execution_count": 14,
   "id": "ebd68497-9a50-472d-a0a1-fbe522753b5b",
   "metadata": {},
   "outputs": [],
   "source": [
    "units = nwbfile_read.units[:]"
   ]
  },
  {
   "cell_type": "code",
   "execution_count": 15,
   "id": "d53641f7-51f2-49cb-8651-15919fc31eeb",
   "metadata": {},
   "outputs": [],
   "source": [
    "# load spike timestamp data for an 'arbitrarily' selected unit\n",
    "unit_id = 259\n",
    "spike_timestamps = units.spike_times.loc[unit_id]"
   ]
  },
  {
   "cell_type": "code",
   "execution_count": 49,
   "id": "bc6dc09f-9584-4947-9eac-381588f343d6",
   "metadata": {},
   "outputs": [
    {
     "data": {
      "text/plain": [
       "Index(['start_time', 'stop_time', 'site', 'power', 'param_group',\n",
       "       'emission_location', 'duration', 'rise_time', 'num_pulses',\n",
       "       'wavelength', 'type', 'inter_pulse_interval', 'stimulus_template_name'],\n",
       "      dtype='object')"
      ]
     },
     "execution_count": 49,
     "metadata": {},
     "output_type": "execute_result"
    }
   ],
   "source": [
    "# load the stimulus table\n",
    "stimulus_table = nwbfile_read.intervals['trials'].to_dataframe()\n",
    "stimulus_table.columns"
   ]
  },
  {
   "cell_type": "code",
   "execution_count": 17,
   "id": "3556caec-9ec1-4c2f-a05e-7c3a7a061caf",
   "metadata": {},
   "outputs": [
    {
     "data": {
      "text/html": [
       "<div>\n",
       "<style scoped>\n",
       "    .dataframe tbody tr th:only-of-type {\n",
       "        vertical-align: middle;\n",
       "    }\n",
       "\n",
       "    .dataframe tbody tr th {\n",
       "        vertical-align: top;\n",
       "    }\n",
       "\n",
       "    .dataframe thead th {\n",
       "        text-align: right;\n",
       "    }\n",
       "</style>\n",
       "<table border=\"1\" class=\"dataframe\">\n",
       "  <thead>\n",
       "    <tr style=\"text-align: right;\">\n",
       "      <th></th>\n",
       "      <th>start_time</th>\n",
       "      <th>stop_time</th>\n",
       "      <th>site</th>\n",
       "      <th>power</th>\n",
       "      <th>param_group</th>\n",
       "      <th>emission_location</th>\n",
       "      <th>duration</th>\n",
       "      <th>rise_time</th>\n",
       "      <th>num_pulses</th>\n",
       "      <th>wavelength</th>\n",
       "      <th>type</th>\n",
       "      <th>inter_pulse_interval</th>\n",
       "      <th>stimulus_template_name</th>\n",
       "    </tr>\n",
       "    <tr>\n",
       "      <th>id</th>\n",
       "      <th></th>\n",
       "      <th></th>\n",
       "      <th></th>\n",
       "      <th></th>\n",
       "      <th></th>\n",
       "      <th></th>\n",
       "      <th></th>\n",
       "      <th></th>\n",
       "      <th></th>\n",
       "      <th></th>\n",
       "      <th></th>\n",
       "      <th></th>\n",
       "      <th></th>\n",
       "    </tr>\n",
       "  </thead>\n",
       "  <tbody>\n",
       "    <tr>\n",
       "      <th>19</th>\n",
       "      <td>8993.010352</td>\n",
       "      <td>8993.050352</td>\n",
       "      <td>4</td>\n",
       "      <td>0.1</td>\n",
       "      <td>train</td>\n",
       "      <td>ProbeA</td>\n",
       "      <td>0.01</td>\n",
       "      <td>0.001</td>\n",
       "      <td>5</td>\n",
       "      <td>638</td>\n",
       "      <td>internal_red</td>\n",
       "      <td>0.04</td>\n",
       "      <td>internal_red-train-0.1mW</td>\n",
       "    </tr>\n",
       "    <tr>\n",
       "      <th>60</th>\n",
       "      <td>9009.575600</td>\n",
       "      <td>9009.605600</td>\n",
       "      <td>7</td>\n",
       "      <td>0.1</td>\n",
       "      <td>train</td>\n",
       "      <td>ProbeA</td>\n",
       "      <td>0.01</td>\n",
       "      <td>0.001</td>\n",
       "      <td>5</td>\n",
       "      <td>638</td>\n",
       "      <td>internal_red</td>\n",
       "      <td>0.04</td>\n",
       "      <td>internal_red-train-0.1mW</td>\n",
       "    </tr>\n",
       "    <tr>\n",
       "      <th>65</th>\n",
       "      <td>9011.553267</td>\n",
       "      <td>9011.603267</td>\n",
       "      <td>6</td>\n",
       "      <td>0.1</td>\n",
       "      <td>train</td>\n",
       "      <td>ProbeA</td>\n",
       "      <td>0.01</td>\n",
       "      <td>0.001</td>\n",
       "      <td>5</td>\n",
       "      <td>450</td>\n",
       "      <td>internal_blue</td>\n",
       "      <td>0.04</td>\n",
       "      <td>internal_blue-train-0.1mW</td>\n",
       "    </tr>\n",
       "    <tr>\n",
       "      <th>73</th>\n",
       "      <td>9014.826554</td>\n",
       "      <td>9014.876554</td>\n",
       "      <td>4</td>\n",
       "      <td>0.1</td>\n",
       "      <td>train</td>\n",
       "      <td>ProbeA</td>\n",
       "      <td>0.01</td>\n",
       "      <td>0.001</td>\n",
       "      <td>5</td>\n",
       "      <td>638</td>\n",
       "      <td>internal_red</td>\n",
       "      <td>0.04</td>\n",
       "      <td>internal_red-train-0.1mW</td>\n",
       "    </tr>\n",
       "    <tr>\n",
       "      <th>88</th>\n",
       "      <td>9020.874354</td>\n",
       "      <td>9020.914354</td>\n",
       "      <td>4</td>\n",
       "      <td>0.1</td>\n",
       "      <td>train</td>\n",
       "      <td>ProbeA</td>\n",
       "      <td>0.01</td>\n",
       "      <td>0.001</td>\n",
       "      <td>5</td>\n",
       "      <td>450</td>\n",
       "      <td>internal_blue</td>\n",
       "      <td>0.04</td>\n",
       "      <td>internal_blue-train-0.1mW</td>\n",
       "    </tr>\n",
       "    <tr>\n",
       "      <th>...</th>\n",
       "      <td>...</td>\n",
       "      <td>...</td>\n",
       "      <td>...</td>\n",
       "      <td>...</td>\n",
       "      <td>...</td>\n",
       "      <td>...</td>\n",
       "      <td>...</td>\n",
       "      <td>...</td>\n",
       "      <td>...</td>\n",
       "      <td>...</td>\n",
       "      <td>...</td>\n",
       "      <td>...</td>\n",
       "      <td>...</td>\n",
       "    </tr>\n",
       "    <tr>\n",
       "      <th>13942</th>\n",
       "      <td>14608.399733</td>\n",
       "      <td>14608.429733</td>\n",
       "      <td>5</td>\n",
       "      <td>0.1</td>\n",
       "      <td>train</td>\n",
       "      <td>ProbeA</td>\n",
       "      <td>0.01</td>\n",
       "      <td>0.001</td>\n",
       "      <td>5</td>\n",
       "      <td>450</td>\n",
       "      <td>internal_blue</td>\n",
       "      <td>0.04</td>\n",
       "      <td>internal_blue-train-0.1mW</td>\n",
       "    </tr>\n",
       "    <tr>\n",
       "      <th>13946</th>\n",
       "      <td>14609.996933</td>\n",
       "      <td>14610.036933</td>\n",
       "      <td>6</td>\n",
       "      <td>0.1</td>\n",
       "      <td>train</td>\n",
       "      <td>ProbeA</td>\n",
       "      <td>0.01</td>\n",
       "      <td>0.001</td>\n",
       "      <td>5</td>\n",
       "      <td>450</td>\n",
       "      <td>internal_blue</td>\n",
       "      <td>0.04</td>\n",
       "      <td>internal_blue-train-0.1mW</td>\n",
       "    </tr>\n",
       "    <tr>\n",
       "      <th>13964</th>\n",
       "      <td>14617.274400</td>\n",
       "      <td>14617.324400</td>\n",
       "      <td>8</td>\n",
       "      <td>0.1</td>\n",
       "      <td>train</td>\n",
       "      <td>ProbeA</td>\n",
       "      <td>0.01</td>\n",
       "      <td>0.001</td>\n",
       "      <td>5</td>\n",
       "      <td>638</td>\n",
       "      <td>internal_red</td>\n",
       "      <td>0.04</td>\n",
       "      <td>internal_red-train-0.1mW</td>\n",
       "    </tr>\n",
       "    <tr>\n",
       "      <th>13986</th>\n",
       "      <td>14626.153300</td>\n",
       "      <td>14626.213300</td>\n",
       "      <td>4</td>\n",
       "      <td>0.1</td>\n",
       "      <td>train</td>\n",
       "      <td>ProbeA</td>\n",
       "      <td>0.01</td>\n",
       "      <td>0.001</td>\n",
       "      <td>5</td>\n",
       "      <td>450</td>\n",
       "      <td>internal_blue</td>\n",
       "      <td>0.04</td>\n",
       "      <td>internal_blue-train-0.1mW</td>\n",
       "    </tr>\n",
       "    <tr>\n",
       "      <th>13989</th>\n",
       "      <td>14627.368767</td>\n",
       "      <td>14627.398767</td>\n",
       "      <td>12</td>\n",
       "      <td>0.1</td>\n",
       "      <td>train</td>\n",
       "      <td>ProbeA</td>\n",
       "      <td>0.01</td>\n",
       "      <td>0.001</td>\n",
       "      <td>5</td>\n",
       "      <td>450</td>\n",
       "      <td>internal_blue</td>\n",
       "      <td>0.04</td>\n",
       "      <td>internal_blue-train-0.1mW</td>\n",
       "    </tr>\n",
       "  </tbody>\n",
       "</table>\n",
       "<p>1400 rows × 13 columns</p>\n",
       "</div>"
      ],
      "text/plain": [
       "         start_time     stop_time  site  power param_group emission_location  \\\n",
       "id                                                                             \n",
       "19      8993.010352   8993.050352     4    0.1       train            ProbeA   \n",
       "60      9009.575600   9009.605600     7    0.1       train            ProbeA   \n",
       "65      9011.553267   9011.603267     6    0.1       train            ProbeA   \n",
       "73      9014.826554   9014.876554     4    0.1       train            ProbeA   \n",
       "88      9020.874354   9020.914354     4    0.1       train            ProbeA   \n",
       "...             ...           ...   ...    ...         ...               ...   \n",
       "13942  14608.399733  14608.429733     5    0.1       train            ProbeA   \n",
       "13946  14609.996933  14610.036933     6    0.1       train            ProbeA   \n",
       "13964  14617.274400  14617.324400     8    0.1       train            ProbeA   \n",
       "13986  14626.153300  14626.213300     4    0.1       train            ProbeA   \n",
       "13989  14627.368767  14627.398767    12    0.1       train            ProbeA   \n",
       "\n",
       "       duration  rise_time  num_pulses  wavelength           type  \\\n",
       "id                                                                  \n",
       "19         0.01      0.001           5         638   internal_red   \n",
       "60         0.01      0.001           5         638   internal_red   \n",
       "65         0.01      0.001           5         450  internal_blue   \n",
       "73         0.01      0.001           5         638   internal_red   \n",
       "88         0.01      0.001           5         450  internal_blue   \n",
       "...         ...        ...         ...         ...            ...   \n",
       "13942      0.01      0.001           5         450  internal_blue   \n",
       "13946      0.01      0.001           5         450  internal_blue   \n",
       "13964      0.01      0.001           5         638   internal_red   \n",
       "13986      0.01      0.001           5         450  internal_blue   \n",
       "13989      0.01      0.001           5         450  internal_blue   \n",
       "\n",
       "       inter_pulse_interval     stimulus_template_name  \n",
       "id                                                      \n",
       "19                     0.04   internal_red-train-0.1mW  \n",
       "60                     0.04   internal_red-train-0.1mW  \n",
       "65                     0.04  internal_blue-train-0.1mW  \n",
       "73                     0.04   internal_red-train-0.1mW  \n",
       "88                     0.04  internal_blue-train-0.1mW  \n",
       "...                     ...                        ...  \n",
       "13942                  0.04  internal_blue-train-0.1mW  \n",
       "13946                  0.04  internal_blue-train-0.1mW  \n",
       "13964                  0.04   internal_red-train-0.1mW  \n",
       "13986                  0.04  internal_blue-train-0.1mW  \n",
       "13989                  0.04  internal_blue-train-0.1mW  \n",
       "\n",
       "[1400 rows x 13 columns]"
      ]
     },
     "execution_count": 17,
     "metadata": {},
     "output_type": "execute_result"
    }
   ],
   "source": [
    "# select the highest power trials where the light emission was on the same probe the unit is on\n",
    "unit_device = units.device_name.loc[unit_id]\n",
    "max_laser_power = max(stimulus_table['power']) # be careful with this in the future, different color lasers are sometimes presented at different powers!\n",
    "\n",
    "#filtered_stimulus_table = stimulus_table.query('emission_location == @unit_device and power == @max_laser_power')\n",
    "filtered_stimulus_table = stimulus_table.query('emission_location == @unit_device and power == 0.1')\n",
    "filtered_stimulus_table"
   ]
  },
  {
   "cell_type": "markdown",
   "id": "f4545172-f57a-4525-ae1d-6ed56f951faa",
   "metadata": {},
   "source": [
    "There's both red and blue laser pulses in this stimulus table. Let's try plotting the unit responses to both to see if either evokes a response. To do this, we'll create a \"raster plot\": a plot showing the spike times for each trial aligned to an event, in this case the laser onset. As such, we will need to convert the absolute spike times over the course of the whole experiment to relative spike times (relative to laser onset). We can do this with numpy's searchsorted function."
   ]
  },
  {
   "cell_type": "code",
   "execution_count": 18,
   "id": "0f40f240-a1e2-4989-9d64-eac874a46439",
   "metadata": {},
   "outputs": [],
   "source": [
    "time_range = np.array([-0.1, 0.3]) # time range (in seconds) to plot around each laser onset event\n",
    "\n",
    "blue_laser_stim_table = filtered_stimulus_table.query('type == \"internal_blue\"')\n",
    "laser_onset_timestamps = blue_laser_stim_table.start_time.tolist()"
   ]
  },
  {
   "cell_type": "code",
   "execution_count": 28,
   "id": "85865e23-888a-4f2c-ba3b-7423fa004fc7",
   "metadata": {},
   "outputs": [],
   "source": [
    "# let's make a function that can convert absolute timestamps to relative timestamps, as this will come in handy a lot!\n",
    "\n",
    "def event_locked_timestamps(spike_timestamps, event_timestamps, time_range):\n",
    "    \"\"\"\n",
    "    Converts spike timestamps over course of entire session to time stamps relative to an event.\n",
    "\n",
    "    :param spike_timestamps: 1d array of floats, times a spike occurred over course of session\n",
    "    :param event_timestamps: 1d array of floats, times an event occurred over course of session\n",
    "    :param time_range: time range relative to event onset over which to collect spike times for each trial\n",
    "    :return: event_locked_spike_times: list of arrays (1 per trial), array contains spike times relative to event onset\n",
    "    for that trial\n",
    "    \"\"\"\n",
    "    Ntrials = len(event_timestamps)\n",
    "\n",
    "    event_locked_spike_times = []\n",
    "    for ind_trial in np.arange(Ntrials):\n",
    "        time_range_this_trial = event_timestamps[ind_trial] + time_range\n",
    "        spike_inds_this_trial = np.searchsorted(spike_timestamps, time_range_this_trial)\n",
    "        spike_times_this_trial = spike_timestamps[spike_inds_this_trial[0]:spike_inds_this_trial[1]]\n",
    "        event_locked_spike_times.append(spike_times_this_trial - event_timestamps[ind_trial])\n",
    "\n",
    "    return np.array(event_locked_spike_times, dtype=object)\n",
    "\n",
    "# another useful function to convert timestamps to counts per bin\n",
    "def timestamps_to_spike_counts(spike_timestamps, bins):\n",
    "    \"\"\"\n",
    "    Converts timestamps at which spikes occurred to spike counts per time bin.\n",
    "    :param spike_timestamps: should be a list of lists (one list per trial)\n",
    "    :param bins: time ranges over which to calculate number of spikes\n",
    "    :return: spike_counts: numpy array, dimensions num trials x len(bins)-1, number of spikes that happened in each time\n",
    "    bin for each trial\n",
    "    \"\"\"\n",
    "    Ntrials = len(spike_timestamps)\n",
    "    spike_counts = np.empty((Ntrials, len(bins) - 1))\n",
    "    for trial in range(Ntrials):\n",
    "        this_spike_counts, bin_edges = np.histogram(spike_timestamps[trial], bins)\n",
    "        spike_counts[trial, :] = this_spike_counts\n",
    "\n",
    "    return spike_counts"
   ]
  },
  {
   "cell_type": "code",
   "execution_count": 20,
   "id": "14b81a51-2bc8-4d25-935d-3b9b4eddc863",
   "metadata": {},
   "outputs": [],
   "source": [
    "laser_locked_spike_timestamps = event_locked_timestamps(spike_timestamps, laser_onset_timestamps, time_range)"
   ]
  },
  {
   "cell_type": "code",
   "execution_count": 25,
   "id": "106cb0e2-e6b0-4a4a-a071-1af1db65099d",
   "metadata": {},
   "outputs": [
    {
     "data": {
      "text/plain": [
       "<matplotlib.lines.Line2D at 0x7f93ea3d09a0>"
      ]
     },
     "execution_count": 25,
     "metadata": {},
     "output_type": "execute_result"
    },
    {
     "data": {
      "image/png": "[encoded data removed]",
      "text/plain": [
       "<Figure size 640x480 with 1 Axes>"
      ]
     },
     "metadata": {},
     "output_type": "display_data"
    }
   ],
   "source": [
    "# make a raster plot of all trials!\n",
    "import matplotlib.pyplot as plt\n",
    "%matplotlib inline\n",
    "\n",
    "Ntrials = len(laser_locked_spike_timestamps)\n",
    "for trial in range(Ntrials):\n",
    "    this_raster = plt.plot(laser_locked_spike_timestamps[trial], (trial + 1) * np.ones(len(laser_locked_spike_timestamps[trial])), '.', color='k', rasterized=True, ms=3)\n",
    "plt.ylabel('Trial')\n",
    "plt.xlabel('Time from laser onset (s)')\n",
    "plt.axvline(0, color='0.75')"
   ]
  },
  {
   "cell_type": "markdown",
   "id": "8ba21cdb-644c-4633-bc0a-93ecf8b7e69b",
   "metadata": {},
   "source": [
    "Looks like there might be a weak response... but wait! The NPopto has 14 emission sites, and the trials from all of these are interleaved! Let's try grouping trials by emission site and see if we see anything."
   ]
  },
  {
   "cell_type": "code",
   "execution_count": 26,
   "id": "378a7223-f148-4a41-b5bc-24bc20ad5e06",
   "metadata": {},
   "outputs": [],
   "source": [
    "emission_site = np.array(blue_laser_stim_table.site.tolist())"
   ]
  },
  {
   "cell_type": "code",
   "execution_count": 27,
   "id": "7cce187d-f128-4cf8-ae70-58afdfa54fe3",
   "metadata": {},
   "outputs": [
    {
     "data": {
      "text/plain": [
       "<matplotlib.lines.Line2D at 0x7f9424973700>"
      ]
     },
     "execution_count": 27,
     "metadata": {},
     "output_type": "execute_result"
    },
    {
     "data": {
      "image/png": "[encoded data removed]",
      "text/plain": [
       "<Figure size 640x480 with 1 Axes>"
      ]
     },
     "metadata": {},
     "output_type": "display_data"
    }
   ],
   "source": [
    "for site in np.unique(emission_site):\n",
    "    trials_this_site = emission_site == site\n",
    "    this_laser_locked_timestamps = laser_locked_spike_timestamps[trials_this_site]\n",
    "    Ntrials = len(this_laser_locked_timestamps)\n",
    "    for trial in range(Ntrials):\n",
    "        this_raster = plt.plot(this_laser_locked_timestamps[trial], site * (trial + 1) * np.ones(len(this_laser_locked_timestamps[trial])), '.', color='k', rasterized=True, ms=3)\n",
    "\n",
    "plt.ylabel('Emission site')\n",
    "plt.xlabel('Time from laser onset (s)')\n",
    "plt.axvline(0, color='0.75')"
   ]
  },
  {
   "cell_type": "markdown",
   "id": "8636a76e-95f4-4fdf-937e-b72036660a0e",
   "metadata": {},
   "source": [
    "Definitely a strong response when laser is presented at emission sites 1 and 2! But how do we quantify it? An obvious answer is to see if the increase in firing rate is statistically significant. Since the laser presentation has five pulses, we can also check how consistent the response is by testing if every pulse has a significant response.\n",
    "\n",
    "There are 14 emission sites. How do we know which one to select for testing? We could test all 14, then correct for multiple comparisons. Alternatively, we could determine which one elicits the largest increase in firing rate, or the lowest latency response."
   ]
  },
  {
   "cell_type": "code",
   "execution_count": 43,
   "id": "df52d0b2-ce0c-438f-8692-796d3dee3be0",
   "metadata": {},
   "outputs": [
    {
     "data": {
      "text/plain": [
       "array([ True, False, False, False, False, False, False, False, False,\n",
       "       False, False, False, False, False])"
      ]
     },
     "execution_count": 43,
     "metadata": {},
     "output_type": "execute_result"
    }
   ],
   "source": [
    "# applying the strategy of testing every emission site\n",
    "from scipy import stats\n",
    "from statsmodels.stats.multitest import multipletests\n",
    "\n",
    "pulse_duration = np.unique(blue_laser_stim_table.duration)[0]\n",
    "first_pulse_time_range = [0, pulse_duration]\n",
    "baseline_time_range = [-pulse_duration, 0]\n",
    "\n",
    "first_pulse_counts = timestamps_to_spike_counts(laser_locked_spike_timestamps, first_pulse_time_range)\n",
    "baseline_counts = timestamps_to_spike_counts(laser_locked_spike_timestamps, baseline_time_range)\n",
    "\n",
    "all_site_pvals = []\n",
    "for site in np.unique(emission_site):\n",
    "    trials_this_site = emission_site == site\n",
    "    this_site_pulse_counts = first_pulse_counts[trials_this_site]\n",
    "    this_site_baseline_counts = baseline_counts[trials_this_site]\n",
    "    \n",
    "    # paired test\n",
    "    try:\n",
    "        statistic, pVal = stats.wilcoxon(this_site_pulse_counts.flatten(),\n",
    "                                this_site_baseline_counts.flatten(),\n",
    "                                alternative='greater')\n",
    "    except(ValueError):  # wilcoxon test doesn't like it when there's no difference between passed values\n",
    "        statistic = 0\n",
    "        pVal = 1\n",
    "        \n",
    "    all_site_pvals.append(pVal)\n",
    "    \n",
    "# corrected pvals\n",
    "(responsive_sites, corrected_pVals, alphaSidak, alphaBonf) = multipletests(all_site_pvals, method='holm')\n",
    "responsive_sites"
   ]
  },
  {
   "cell_type": "markdown",
   "id": "5106cfb8-4925-4692-9324-e348b3c0cddc",
   "metadata": {},
   "source": [
    "Looks like site 1 has a significant response, even after correcting for the 14 comparisons done!"
   ]
  },
  {
   "cell_type": "code",
   "execution_count": 46,
   "id": "b528d898-7362-4980-afa9-e3be5d10f997",
   "metadata": {},
   "outputs": [],
   "source": [
    "# see how many pulses the unit responds to\n",
    "num_pulses = np.unique(blue_laser_stim_table.num_pulses)[0]\n",
    "inter_pulse_interval = np.unique(blue_laser_stim_table.inter_pulse_interval)[0]\n",
    "pulse_offset = (duration + inter_pulse_interval)\n",
    "\n",
    "trials_best_site = emission_site == 1\n",
    "baseline_counts_best_site = baseline_counts[trials_best_site]\n",
    "\n",
    "other_pulse_pvals = []\n",
    "\n",
    "for ind_pulse in range(1,num_pulses):\n",
    "    this_pulse_time_range = [first_pulse_time_range[0]+ind_pulse*pulse_offset, first_pulse_time_range[1]+ind_pulse*pulse_offset]\n",
    "    this_pulse_counts = timestamps_to_spike_counts(laser_locked_spike_timestamps, this_pulse_time_range)\n",
    "    this_pulse_best_site_counts = this_pulse_counts[trials_best_site]\n",
    "    \n",
    "    # paired test\n",
    "    try:\n",
    "        statistic, pVal = stats.wilcoxon(this_pulse_best_site_counts.flatten(),\n",
    "                                baseline_counts_best_site.flatten(),\n",
    "                                alternative='greater')\n",
    "    except(ValueError):  # wilcoxon test doesn't like it when there's no difference between passed values\n",
    "        statistic = 0\n",
    "        pVal = 1\n",
    "        \n",
    "    other_pulse_pvals.append(pVal)\n"
   ]
  },
  {
   "cell_type": "code",
   "execution_count": 48,
   "id": "46d9bf68-e0d5-438d-ba70-eedff3e1e411",
   "metadata": {},
   "outputs": [
    {
     "data": {
      "text/plain": [
       "array([ True,  True,  True,  True])"
      ]
     },
     "execution_count": 48,
     "metadata": {},
     "output_type": "execute_result"
    }
   ],
   "source": [
    "(responsive_pulses, corrected_pVals, alphaSidak, alphaBonf) = multipletests(other_pulse_pvals, method='holm')\n",
    "responsive_pulses"
   ]
  },
  {
   "cell_type": "markdown",
   "id": "3d23094a-2ae6-4bc0-adef-f59cb6acbbd6",
   "metadata": {},
   "source": [
    "This unit has a significant response to all five blue laser pulses! That means this unit is likely a tagged D1 cell. (Though it would be good to check the responses to red laser as well: this mouse has D2 cells tagged with ChRmine, which has a broad activation spectrum and often responds to both blue and red laser, while CoChR responds to only blue).\n",
    "\n",
    "There are often other tests applied to determine if a unit is tagged or not, most notably to check the latency of the response to make sure you're not getting indirect inactivation via synaptic transmission, but this is less of a concern here since medium spiny neurons in striatum are GABAergic.\n",
    "\n",
    "You can now apply these tests to every unit in this session to determine which units are tagged and learn their identities!"
   ]
  },
  {
   "cell_type": "code",
   "execution_count": null,
   "id": "284d13d7-54b2-462b-8961-5d5037f23cb7",
   "metadata": {},
   "outputs": [],
   "source": []
  }
 ],
 "metadata": {
  "kernelspec": {
   "display_name": "Python 3",
   "language": "python",
   "name": "python3"
  },
  "language_info": {
   "codemirror_mode": {
    "name": "ipython",
    "version": 3
   },
   "file_extension": ".py",
   "mimetype": "text/x-python",
   "name": "python",
   "nbconvert_exporter": "python",
   "pygments_lexer": "ipython3",
   "version": "3.9.12"
  }
 },
 "nbformat": 4,
 "nbformat_minor": 5
}
